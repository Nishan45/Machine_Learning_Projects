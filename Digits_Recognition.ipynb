{
 "cells": [
  {
   "cell_type": "markdown",
   "id": "a7aee86e",
   "metadata": {},
   "source": [
    "# Digits Recognition Using RandomForestClassifier"
   ]
  },
  {
   "cell_type": "code",
   "execution_count": 5,
   "id": "00b63a4f",
   "metadata": {},
   "outputs": [],
   "source": [
    "from sklearn.ensemble import RandomForestClassifier\n",
    "from sklearn.datasets import load_digits\n",
    "\n",
    "model=RandomForestClassifier(n_estimators=300)\n",
    "digits=load_digits()"
   ]
  },
  {
   "cell_type": "code",
   "execution_count": 6,
   "id": "292017be",
   "metadata": {},
   "outputs": [
    {
     "data": {
      "image/png": "[encoded data removed]",
      "text/plain": [
       "<Figure size 576x576 with 64 Axes>"
      ]
     },
     "metadata": {},
     "output_type": "display_data"
    }
   ],
   "source": [
    "import matplotlib.pyplot as plt\n",
    "\n",
    "fig=plt.figure(figsize=(8,8))\n",
    "\n",
    "for i in range(64):\n",
    "    ax=fig.add_subplot(8,8,i+1,xticks=[],yticks=[])\n",
    "    ax.imshow(digits.images[i],cmap=plt.cm.binary)\n",
    "    ax.text(7,7,str(digits.target[i]))\n",
    "    "
   ]
  },
  {
   "cell_type": "code",
   "execution_count": 7,
   "id": "41f280c9",
   "metadata": {},
   "outputs": [],
   "source": [
    "from sklearn.model_selection import train_test_split\n",
    "x_train,x_test,y_train,y_test=train_test_split(digits.data,digits.target)\n",
    "model.fit(x_train,y_train)\n",
    "\n",
    "y_prd=model.predict(x_test)"
   ]
  },
  {
   "cell_type": "code",
   "execution_count": 8,
   "id": "8a4a70ba",
   "metadata": {},
   "outputs": [
    {
     "name": "stdout",
     "output_type": "stream",
     "text": [
      "[[44  0  0  0  0  0  0  0  0  0]\n",
      " [ 0 36  0  0  0  0  0  0  0  0]\n",
      " [ 1  0 50  0  0  0  0  0  0  0]\n",
      " [ 0  0  0 47  0  1  0  3  1  0]\n",
      " [ 0  0  0  0 44  0  0  0  0  0]\n",
      " [ 0  0  0  0  0 54  0  0  1  0]\n",
      " [ 1  0  0  0  0  0 38  0  1  0]\n",
      " [ 0  0  0  0  0  0  0 39  0  1]\n",
      " [ 0  1  1  1  0  1  0  0 42  0]\n",
      " [ 0  0  0  1  0  1  0  0  2 38]]\n"
     ]
    }
   ],
   "source": [
    "from sklearn.metrics import confusion_matrix\n",
    "c_matrix=confusion_matrix(y_test,y_prd)\n",
    "print(c_matrix)\n"
   ]
  },
  {
   "cell_type": "code",
   "execution_count": 9,
   "id": "3f9f0188",
   "metadata": {},
   "outputs": [
    {
     "name": "stdout",
     "output_type": "stream",
     "text": [
      "              precision    recall  f1-score   support\n",
      "\n",
      "           0       1.00      0.96      0.98        46\n",
      "           1       1.00      0.97      0.99        37\n",
      "           2       0.98      0.98      0.98        51\n",
      "           3       0.90      0.96      0.93        49\n",
      "           4       1.00      1.00      1.00        44\n",
      "           5       0.98      0.95      0.96        57\n",
      "           6       0.95      1.00      0.97        38\n",
      "           7       0.97      0.93      0.95        42\n",
      "           8       0.91      0.89      0.90        47\n",
      "           9       0.90      0.97      0.94        39\n",
      "\n",
      "    accuracy                           0.96       450\n",
      "   macro avg       0.96      0.96      0.96       450\n",
      "weighted avg       0.96      0.96      0.96       450\n",
      "\n"
     ]
    }
   ],
   "source": [
    "from sklearn.metrics import classification_report\n",
    "report=classification_report(y_prd,y_test)\n",
    "print(report)\n"
   ]
  },
  {
   "cell_type": "markdown",
   "id": "d8432812",
   "metadata": {},
   "source": [
    "# Digits Recognition Using Neural Network"
   ]
  },
  {
   "cell_type": "code",
   "execution_count": 21,
   "id": "3ddabe92",
   "metadata": {},
   "outputs": [],
   "source": [
    "import tensorflow as tf\n",
    "from tensorflow.keras.layers import Dense\n",
    "from tensorflow.keras import Sequential\n",
    "import numpy as np"
   ]
  },
  {
   "cell_type": "code",
   "execution_count": 157,
   "id": "dc09a8b0",
   "metadata": {},
   "outputs": [],
   "source": [
    "model=Sequential(\n",
    "    [\n",
    "        Dense(units=100,activation='relu'),\n",
    "        Dense(units=80,activation='relu'),\n",
    "        Dense(units=60,activation='relu'),\n",
    "        Dense(units=40,activation='relu'),\n",
    "        Dense(units=30,activation='relu'),\n",
    "        Dense(units=20,activation='relu'),\n",
    "        Dense(units=10,activation='linear')   \n",
    "    ]\n",
    ")\n",
    "model.compile(\n",
    "    loss=tf.keras.losses.SparseCategoricalCrossentropy(from_logits=True),\n",
    "    optimizer=tf.keras.optimizers.Adam(0.001) \n",
    ")"
   ]
  },
  {
   "cell_type": "code",
   "execution_count": 158,
   "id": "682fa34c",
   "metadata": {},
   "outputs": [
    {
     "name": "stdout",
     "output_type": "stream",
     "text": [
      "Epoch 1/10\n",
      "43/43 [==============================] - 2s 4ms/step - loss: 1.8006\n",
      "Epoch 2/10\n",
      "43/43 [==============================] - 0s 4ms/step - loss: 0.7602\n",
      "Epoch 3/10\n",
      "43/43 [==============================] - 0s 4ms/step - loss: 0.3109\n",
      "Epoch 4/10\n",
      "43/43 [==============================] - 0s 4ms/step - loss: 0.1883\n",
      "Epoch 5/10\n",
      "43/43 [==============================] - 0s 4ms/step - loss: 0.0879\n",
      "Epoch 6/10\n",
      "43/43 [==============================] - 0s 4ms/step - loss: 0.1836\n",
      "Epoch 7/10\n",
      "43/43 [==============================] - 0s 4ms/step - loss: 0.0742\n",
      "Epoch 8/10\n",
      "43/43 [==============================] - 0s 4ms/step - loss: 0.0418\n",
      "Epoch 9/10\n",
      "43/43 [==============================] - 0s 4ms/step - loss: 0.0283\n",
      "Epoch 10/10\n",
      "43/43 [==============================] - 0s 4ms/step - loss: 0.0169\n"
     ]
    },
    {
     "data": {
      "text/plain": [
       "<keras.callbacks.History at 0x16d7e7775b0>"
      ]
     },
     "execution_count": 158,
     "metadata": {},
     "output_type": "execute_result"
    }
   ],
   "source": [
    "model.fit(x_train,y_train,epochs=10)"
   ]
  },
  {
   "cell_type": "code",
   "execution_count": 159,
   "id": "b5d3c648",
   "metadata": {},
   "outputs": [
    {
     "name": "stdout",
     "output_type": "stream",
     "text": [
      "15/15 [==============================] - 0s 3ms/step\n"
     ]
    }
   ],
   "source": [
    "pred=model.predict(x_test)\n",
    "pred= tf.nn.softmax(pred).numpy()"
   ]
  },
  {
   "cell_type": "code",
   "execution_count": 160,
   "id": "105ed3d0",
   "metadata": {},
   "outputs": [],
   "source": [
    "prediction=[]\n",
    "for i in range(len(pred)):\n",
    "    prediction.append(np.argmax(pred[i]))"
   ]
  },
  {
   "cell_type": "code",
   "execution_count": 161,
   "id": "b1718007",
   "metadata": {},
   "outputs": [
    {
     "name": "stdout",
     "output_type": "stream",
     "text": [
      "[[44  0  0  0  0  0  0  0  0  0]\n",
      " [ 0 35  0  0  0  0  1  0  0  0]\n",
      " [ 0  0 51  0  0  0  0  0  0  0]\n",
      " [ 0  0  0 47  0  2  1  2  0  0]\n",
      " [ 0  0  0  0 44  0  0  0  0  0]\n",
      " [ 0  0  0  0  0 55  0  0  0  0]\n",
      " [ 0  0  0  0  0  0 39  0  1  0]\n",
      " [ 0  0  0  0  0  1  0 38  0  1]\n",
      " [ 0  0  0  1  0  0  2  0 43  0]\n",
      " [ 0  0  0  2  0  2  0  0  2 36]]\n"
     ]
    }
   ],
   "source": [
    "c_matrix=confusion_matrix(y_test,prediction)\n",
    "print(c_matrix)"
   ]
  },
  {
   "cell_type": "code",
   "execution_count": 162,
   "id": "87d36cca",
   "metadata": {},
   "outputs": [
    {
     "name": "stdout",
     "output_type": "stream",
     "text": [
      "              precision    recall  f1-score   support\n",
      "\n",
      "           0       1.00      1.00      1.00        44\n",
      "           1       1.00      0.97      0.99        36\n",
      "           2       1.00      1.00      1.00        51\n",
      "           3       0.94      0.90      0.92        52\n",
      "           4       1.00      1.00      1.00        44\n",
      "           5       0.92      1.00      0.96        55\n",
      "           6       0.91      0.97      0.94        40\n",
      "           7       0.95      0.95      0.95        40\n",
      "           8       0.93      0.93      0.93        46\n",
      "           9       0.97      0.86      0.91        42\n",
      "\n",
      "    accuracy                           0.96       450\n",
      "   macro avg       0.96      0.96      0.96       450\n",
      "weighted avg       0.96      0.96      0.96       450\n",
      "\n"
     ]
    }
   ],
   "source": [
    "report=classification_report(y_test,prediction)\n",
    "print(report)"
   ]
  },
  {
   "cell_type": "code",
   "execution_count": null,
   "id": "27cd4edf",
   "metadata": {},
   "outputs": [],
   "source": []
  }
 ],
 "metadata": {
  "kernelspec": {
   "display_name": "Python 3 (ipykernel)",
   "language": "python",
   "name": "python3"
  },
  "language_info": {
   "codemirror_mode": {
    "name": "ipython",
    "version": 3
   },
   "file_extension": ".py",
   "mimetype": "text/x-python",
   "name": "python",
   "nbconvert_exporter": "python",
   "pygments_lexer": "ipython3",
   "version": "3.9.12"
  }
 },
 "nbformat": 4,
 "nbformat_minor": 5
}
